{
  "nbformat": 4,
  "nbformat_minor": 0,
  "metadata": {
    "colab": {
      "provenance": [],
      "authorship_tag": "ABX9TyOl94STMp4axiz7K/YiUqoI",
      "include_colab_link": true
    },
    "kernelspec": {
      "name": "python3",
      "display_name": "Python 3"
    },
    "language_info": {
      "name": "python"
    }
  },
  "cells": [
    {
      "cell_type": "markdown",
      "metadata": {
        "id": "view-in-github",
        "colab_type": "text"
      },
      "source": [
        "<a href=\"https://colab.research.google.com/github/sofonic71/python_bracISD/blob/main/local_and_global_variable.ipynb\" target=\"_parent\"><img src=\"https://colab.research.google.com/assets/colab-badge.svg\" alt=\"Open In Colab\"/></a>"
      ]
    },
    {
      "cell_type": "code",
      "execution_count": 10,
      "metadata": {
        "colab": {
          "base_uri": "https://localhost:8080/"
        },
        "id": "eJ9dnFXpNsou",
        "outputId": "59f24753-f226-48ad-b661-ee5b04092f98"
      },
      "outputs": [
        {
          "output_type": "stream",
          "name": "stdout",
          "text": [
            "mark is:  100\n"
          ]
        }
      ],
      "source": [
        "#global var\n",
        "\n",
        "global mark\n",
        "mark=100\n",
        "\n",
        "def getMark():\n",
        "  print('mark is: ', mark)\n",
        "getMark()"
      ]
    },
    {
      "cell_type": "code",
      "source": [
        "#global var\n",
        "\n",
        "global marks\n",
        "marks=100\n",
        "\n",
        "def getMark(arg):\n",
        "  print('mark is:',arg)\n",
        "getMark(200)"
      ],
      "metadata": {
        "colab": {
          "base_uri": "https://localhost:8080/"
        },
        "id": "IzSCMZdcTSIL",
        "outputId": "733fd34e-1f9d-4a2c-c433-1e32ef66e8d8"
      },
      "execution_count": 12,
      "outputs": [
        {
          "output_type": "stream",
          "name": "stdout",
          "text": [
            "mark is: 200\n"
          ]
        }
      ]
    }
  ]
}