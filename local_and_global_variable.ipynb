{
  "nbformat": 4,
  "nbformat_minor": 0,
  "metadata": {
    "colab": {
      "provenance": [],
      "authorship_tag": "ABX9TyOl94STMp4axiz7K/YiUqoI",
      "include_colab_link": true
    },
    "kernelspec": {
      "name": "python3",
      "display_name": "Python 3"
    },
    "language_info": {
      "name": "python"
    }
  },
  "cells": [
    {
      "cell_type": "markdown",
      "metadata": {
        "id": "view-in-github",
        "colab_type": "text"
      },
      "source": [
        "<a href=\"https://colab.research.google.com/github/sofonic71/python_bracISD/blob/main/local_and_global_variable.ipynb\" target=\"_parent\"><img src=\"https://colab.research.google.com/assets/colab-badge.svg\" alt=\"Open In Colab\"/></a>"
      ]
    },
    {
      "cell_type": "code",
      "execution_count": 10,
      "metadata": {
        "colab": {
          "base_uri": "https://localhost:8080/"
        },
        "id": "eJ9dnFXpNsou",
        "outputId": "59f24753-f226-48ad-b661-ee5b04092f98"
      },
      "outputs": [
        {
          "output_type": "stream",
          "name": "stdout",
          "text": [
            "mark is:  100\n"
          ]
        }
      ],
      "source": [
        "#global var\n",
        "\n",
        "global mark\n",
        "mark=100\n",
        "\n",
        "def getMark():\n",
        "  print('mark is: ', mark)\n",
        "getMark()"
      ]
    },
    {
      "cell_type": "code",
      "source": [
        "#global var\n",
        "\n",
        "global marks\n",
        "marks=100\n",
        "\n",
        "def getMark(arg):\n",
        "  print('mark is:',arg)\n",
        "getMark(200)"
      ],
      "metadata": {
        "colab": {
          "base_uri": "https://localhost:8080/"
        },
        "id": "IzSCMZdcTSIL",
        "outputId": "ebb67641-dcec-4065-c3da-4ea1609dbe99"
      },
      "execution_count": 11,
      "outputs": [
        {
          "output_type": "stream",
          "name": "stdout",
          "text": [
            "mark is: 200\n"
          ]
        }
      ]
    }
  ]
}