{
  "nbformat": 4,
  "nbformat_minor": 0,
  "metadata": {
    "colab": {
      "provenance": [],
      "authorship_tag": "ABX9TyNc5l6k4L4m/1gH76qlczd4",
      "include_colab_link": true
    },
    "kernelspec": {
      "name": "python3",
      "display_name": "Python 3"
    },
    "language_info": {
      "name": "python"
    }
  },
  "cells": [
    {
      "cell_type": "markdown",
      "metadata": {
        "id": "view-in-github",
        "colab_type": "text"
      },
      "source": [
        "<a href=\"https://colab.research.google.com/github/sofonic71/python_bracISD/blob/main/local_and_global_variable.ipynb\" target=\"_parent\"><img src=\"https://colab.research.google.com/assets/colab-badge.svg\" alt=\"Open In Colab\"/></a>"
      ]
    },
    {
      "cell_type": "code",
      "execution_count": 1,
      "metadata": {
        "colab": {
          "base_uri": "https://localhost:8080/"
        },
        "id": "eJ9dnFXpNsou",
        "outputId": "c745d7d8-23bc-4e8e-b754-1e56442121d9"
      },
      "outputs": [
        {
          "output_type": "stream",
          "name": "stdout",
          "text": [
            "mark is:  100\n"
          ]
        }
      ],
      "source": [
        "#global var\n",
        "mark=100\n",
        "\n",
        "\n",
        "def getMark():\n",
        "  print('mark is: ', mark)\n",
        "getMark()"
      ]
    },
    {
      "cell_type": "code",
      "source": [
        "#global var\n",
        "mark=100\n",
        "\n",
        "\n",
        "def getMark(mark):\n",
        "  print('mark is: ', mark)\n",
        "getMark(200)"
      ],
      "metadata": {
        "colab": {
          "base_uri": "https://localhost:8080/"
        },
        "id": "IzSCMZdcTSIL",
        "outputId": "3456cfa4-5f09-4750-a99e-ba1516823df5"
      },
      "execution_count": 2,
      "outputs": [
        {
          "output_type": "stream",
          "name": "stdout",
          "text": [
            "mark is:  200\n"
          ]
        }
      ]
    }
  ]
}