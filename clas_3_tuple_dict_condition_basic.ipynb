{
  "nbformat": 4,
  "nbformat_minor": 0,
  "metadata": {
    "colab": {
      "provenance": [],
      "authorship_tag": "ABX9TyMmpR2N5UHt52sKjbjR8ehm",
      "include_colab_link": true
    },
    "kernelspec": {
      "name": "python3",
      "display_name": "Python 3"
    },
    "language_info": {
      "name": "python"
    }
  },
  "cells": [
    {
      "cell_type": "markdown",
      "metadata": {
        "id": "view-in-github",
        "colab_type": "text"
      },
      "source": [
        "<a href=\"https://colab.research.google.com/github/sofonic71/python_bracISD/blob/main/clas_3_tuple_dict_condition_basic.ipynb\" target=\"_parent\"><img src=\"https://colab.research.google.com/assets/colab-badge.svg\" alt=\"Open In Colab\"/></a>"
      ]
    },
    {
      "cell_type": "code",
      "execution_count": 9,
      "metadata": {
        "colab": {
          "base_uri": "https://localhost:8080/"
        },
        "id": "m-ZYgKCaS3fW",
        "outputId": "781762e1-6a92-40dd-cbdf-640b1d2efee4"
      },
      "outputs": [
        {
          "output_type": "stream",
          "name": "stdout",
          "text": [
            "<class 'set'>\n",
            "9\n",
            "{False, True, 100, 100.5, 'April', 'February', 'March', 'january', 'May'}\n"
          ]
        }
      ],
      "source": [
        "#set iteams are unordered, unchangable and duplicate not allow\n",
        "\n",
        "a={\"january\",\"February\",\"March\",\"April\",\"May\",100,100.50,True, False}\n",
        "print(type(a))\n",
        "print(len(a))\n",
        "print(a)"
      ]
    },
    {
      "cell_type": "code",
      "source": [
        "#tuple\n",
        "#tuples in Python are immutable, which means that once created, they cannot be changed. You cannot insert or delete elements from a tuple. \n",
        "#If you need a collection that allows for insertion and deletion, you should consider using a list instead. Lists are mutable, and you can add or remove elements from them.\n",
        "\n",
        "a=(\"january\",\"February\",\"March\",\"April\",\"May\",100,100.50,True, False)\n",
        "print(type(a))\n",
        "print(a)\n",
        "print(len(a))\n",
        "\n",
        "#cnverting tuple to list for modification \n",
        "b=list(a)\n",
        "print(b)\n",
        "b.insert(0,\"Apple\")\n",
        "print(b)\n",
        "b.remove(\"March\")\n",
        "print(b)\n",
        "b.pop(1)\n",
        "print(b)\n",
        "\n",
        "#cnverting list to tuple after modification\n",
        "a=tuple(b)\n",
        "print(a)\n"
      ],
      "metadata": {
        "colab": {
          "base_uri": "https://localhost:8080/"
        },
        "id": "_zz378J7XMha",
        "outputId": "a5130648-1681-4a4a-e190-631b32a796e0"
      },
      "execution_count": 17,
      "outputs": [
        {
          "output_type": "stream",
          "name": "stdout",
          "text": [
            "<class 'tuple'>\n",
            "('january', 'February', 'March', 'April', 'May', 100, 100.5, True, False)\n",
            "9\n",
            "['january', 'February', 'March', 'April', 'May', 100, 100.5, True, False]\n",
            "['Apple', 'january', 'February', 'March', 'April', 'May', 100, 100.5, True, False]\n",
            "['Apple', 'january', 'February', 'April', 'May', 100, 100.5, True, False]\n",
            "['Apple', 'February', 'April', 'May', 100, 100.5, True, False]\n",
            "('Apple', 'February', 'April', 'May', 100, 100.5, True, False)\n"
          ]
        }
      ]
    },
    {
      "cell_type": "code",
      "source": [
        "#dictionary \n",
        "#Dictionaries are used to store data values in key:value pairs.\n",
        "#Dictionary is ordered*, changeable and do not allow duplicates.\n",
        "\n",
        "dict={\n",
        "    'name':'hasan',\n",
        "    'roll':56,\n",
        "    'gpa':3.50\n",
        "    }\n",
        "print(dict)\n",
        "print(dict['name'])\n",
        "print(dict['roll'])\n",
        "print(dict['gpa'])\n",
        "\n",
        "\n",
        "#using get function\n",
        "\n",
        "print(dict.get('name'),dict.get('roll'),dict.get('gpa'))\n",
        "\n",
        "\n"
      ],
      "metadata": {
        "colab": {
          "base_uri": "https://localhost:8080/"
        },
        "id": "CznnEkwKb-GA",
        "outputId": "aeca2240-95a7-408a-c5bb-d9cb88a4302d"
      },
      "execution_count": 29,
      "outputs": [
        {
          "output_type": "stream",
          "name": "stdout",
          "text": [
            "{'name': 'hasan', 'roll': 56, 'gpa': 3.5}\n",
            "hasan\n",
            "56\n",
            "3.5\n",
            "hasan 56 3.5\n"
          ]
        }
      ]
    },
    {
      "cell_type": "code",
      "source": [
        "#if else condition_basic\n",
        "a=input('Enter the value:')\n",
        "\n",
        "if a=='10':\n",
        "  print('value is 10')\n",
        "else:\n",
        "  print('value is not 10')"
      ],
      "metadata": {
        "colab": {
          "base_uri": "https://localhost:8080/"
        },
        "id": "MVw0pHhTfTqk",
        "outputId": "a4c08543-bc88-4938-942a-939bcaa0bed0"
      },
      "execution_count": 39,
      "outputs": [
        {
          "output_type": "stream",
          "name": "stdout",
          "text": [
            "Enter the value:10\n",
            "value is 10\n"
          ]
        }
      ]
    }
  ]
}