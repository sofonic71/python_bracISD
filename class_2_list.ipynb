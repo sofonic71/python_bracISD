{
  "nbformat": 4,
  "nbformat_minor": 0,
  "metadata": {
    "colab": {
      "provenance": [],
      "mount_file_id": "1-NuwBjrCJWXvGiZsWDIia6bC7L5gejnI",
      "authorship_tag": "ABX9TyP9J6duACvJFh4q0pCl4XCZ",
      "include_colab_link": true
    },
    "kernelspec": {
      "name": "python3",
      "display_name": "Python 3"
    },
    "language_info": {
      "name": "python"
    }
  },
  "cells": [
    {
      "cell_type": "markdown",
      "metadata": {
        "id": "view-in-github",
        "colab_type": "text"
      },
      "source": [
        "<a href=\"https://colab.research.google.com/github/sofonic71/python_bracISD/blob/main/class_2.ipynb\" target=\"_parent\"><img src=\"https://colab.research.google.com/assets/colab-badge.svg\" alt=\"Open In Colab\"/></a>"
      ]
    },
    {
      "cell_type": "code",
      "execution_count": null,
      "metadata": {
        "colab": {
          "base_uri": "https://localhost:8080/"
        },
        "id": "0Qx_LTbk1u-6",
        "outputId": "d3bb4488-3c84-48b2-9879-1cd05954f579"
      },
      "outputs": [
        {
          "output_type": "stream",
          "name": "stdout",
          "text": [
            "['saturday', 'sunday', 'monday', 'twesday', 'Wednesday', 'Thrusday', 'Friday', 100, True, False]\n"
          ]
        }
      ],
      "source": [
        "list=[\"saturday\", \"sunday\", \"monday\",\"twesday\",\"Wednesday\", \"Thrusday\",\"Friday\",100,True, False]\n",
        "print(list)"
      ]
    },
    {
      "cell_type": "code",
      "source": [
        "list=[\"saturday\", \"sunday\", \"monday\",\"twesday\",\"Wednesday\", \"Thrusday\",\"Friday\",100,True, False]\n",
        "print(len(list))"
      ],
      "metadata": {
        "colab": {
          "base_uri": "https://localhost:8080/"
        },
        "id": "UZ4-fxFq4E_M",
        "outputId": "b43e0855-4257-4ad8-e1d7-0a70541b0af3"
      },
      "execution_count": null,
      "outputs": [
        {
          "output_type": "stream",
          "name": "stdout",
          "text": [
            "10\n"
          ]
        }
      ]
    },
    {
      "cell_type": "code",
      "source": [
        "list=[\"saturday\", \"sunday\", \"monday\",\"twesday\",\"Wednesday\", \"Thrusday\",\"Friday\",100,True, False]\n",
        "print(type(list))"
      ],
      "metadata": {
        "colab": {
          "base_uri": "https://localhost:8080/"
        },
        "id": "hoIcsnQ84UN3",
        "outputId": "e0b04032-0ab5-4cb8-f1e3-f84b9fb111e5"
      },
      "execution_count": null,
      "outputs": [
        {
          "output_type": "stream",
          "name": "stdout",
          "text": [
            "<class 'list'>\n"
          ]
        }
      ]
    },
    {
      "cell_type": "code",
      "source": [
        "list=[\"saturday\", \"sunday\", \"monday\",\"twesday\",\"Wednesday\", \"Thrusday\",\"Friday\",100,True, False]\n",
        "print(list[1])"
      ],
      "metadata": {
        "colab": {
          "base_uri": "https://localhost:8080/"
        },
        "id": "FXTwP3Hv5LfW",
        "outputId": "660c4354-ddc4-47e5-f4af-1d74a79982a2"
      },
      "execution_count": null,
      "outputs": [
        {
          "output_type": "stream",
          "name": "stdout",
          "text": [
            "sunday\n"
          ]
        }
      ]
    },
    {
      "cell_type": "code",
      "source": [
        "list=[\"saturday\", \"sunday\", \"monday\",\"twesday\",\"Wednesday\", \"Thrusday\",\"Friday\",100,True, False]\n",
        "print(list[-1])"
      ],
      "metadata": {
        "colab": {
          "base_uri": "https://localhost:8080/"
        },
        "id": "VlYc7qPs5toj",
        "outputId": "e240b88c-ea78-4b5f-de87-1e2a8975c11a"
      },
      "execution_count": null,
      "outputs": [
        {
          "output_type": "stream",
          "name": "stdout",
          "text": [
            "False\n"
          ]
        }
      ]
    },
    {
      "cell_type": "code",
      "source": [
        "list=[\"saturday\", \"sunday\", \"monday\",\"twesday\",\"Wednesday\", \"Thrusday\",\"Friday\",100,True, False]\n",
        "print(list[-10])"
      ],
      "metadata": {
        "colab": {
          "base_uri": "https://localhost:8080/"
        },
        "id": "MXGSnS_g6CIT",
        "outputId": "730180d9-31b3-4f26-be1e-aa35ff9102a4"
      },
      "execution_count": null,
      "outputs": [
        {
          "output_type": "stream",
          "name": "stdout",
          "text": [
            "saturday\n"
          ]
        }
      ]
    },
    {
      "cell_type": "code",
      "source": [],
      "metadata": {
        "id": "ZlfJkZtE6JQp"
      },
      "execution_count": null,
      "outputs": []
    },
    {
      "cell_type": "code",
      "source": [
        "list=[\"saturday\", \"sunday\", \"monday\",\"twesday\",\"Wednesday\", \"Thrusday\",\"Friday\",100,True, False]\n",
        "print(list[1:4])"
      ],
      "metadata": {
        "colab": {
          "base_uri": "https://localhost:8080/"
        },
        "id": "1DA9KuPk6eox",
        "outputId": "e52ff5f4-dfe6-440e-b42d-463cb1981d01"
      },
      "execution_count": null,
      "outputs": [
        {
          "output_type": "stream",
          "name": "stdout",
          "text": [
            "['sunday', 'monday', 'twesday']\n"
          ]
        }
      ]
    },
    {
      "cell_type": "code",
      "source": [
        "list=[\"saturday\", \"sunday\", \"monday\",\"twesday\",\"Wednesday\", \"Thrusday\",\"Friday\",100,True, False]\n",
        "print(list[:-1])"
      ],
      "metadata": {
        "colab": {
          "base_uri": "https://localhost:8080/"
        },
        "id": "vYL_3R366o6v",
        "outputId": "f41d3931-672d-492c-a6e2-36c365761888"
      },
      "execution_count": null,
      "outputs": [
        {
          "output_type": "stream",
          "name": "stdout",
          "text": [
            "['saturday', 'sunday', 'monday', 'twesday', 'Wednesday', 'Thrusday', 'Friday', 100, True]\n"
          ]
        }
      ]
    },
    {
      "cell_type": "code",
      "source": [
        "list=[\"saturday\", \"sunday\", \"monday\",\"twesday\",\"Wednesday\", \"Thrusday\",\"Friday\",100,True, False]\n",
        "list[1]=\"Apple\" #replace\n",
        "print(list)"
      ],
      "metadata": {
        "colab": {
          "base_uri": "https://localhost:8080/"
        },
        "id": "ZzxmK6K27GHq",
        "outputId": "116c025b-9fba-442f-c223-b8724bc3c46e"
      },
      "execution_count": null,
      "outputs": [
        {
          "output_type": "stream",
          "name": "stdout",
          "text": [
            "['saturday', 'Apple', 'monday', 'twesday', 'Wednesday', 'Thrusday', 'Friday', 100, True, False]\n"
          ]
        }
      ]
    },
    {
      "cell_type": "code",
      "source": [
        "list=[\"saturday\", \"sunday\", \"monday\",\"twesday\",\"Wednesday\", \"Thrusday\",\"Friday\",100,True, False]\n",
        "list.append(\"Blackberry\") #append\n",
        "print(list)"
      ],
      "metadata": {
        "colab": {
          "base_uri": "https://localhost:8080/"
        },
        "id": "OreY8IJz7Wpz",
        "outputId": "0abc63fd-841c-46da-dfe5-921c8865589e"
      },
      "execution_count": null,
      "outputs": [
        {
          "output_type": "stream",
          "name": "stdout",
          "text": [
            "['saturday', 'sunday', 'monday', 'twesday', 'Wednesday', 'Thrusday', 'Friday', 100, True, False, 'Blackberry']\n"
          ]
        }
      ]
    },
    {
      "cell_type": "code",
      "source": [
        "list=[\"saturday\", \"sunday\", \"monday\",\"twesday\",\"Wednesday\", \"Thrusday\",\"Friday\",100,True, False]\n",
        "list.insert(1,\"Orange\") #insertion\n",
        "print(list)"
      ],
      "metadata": {
        "colab": {
          "base_uri": "https://localhost:8080/"
        },
        "id": "PDia-s6280al",
        "outputId": "2171a981-571a-455a-c83a-aa9f967af622"
      },
      "execution_count": null,
      "outputs": [
        {
          "output_type": "stream",
          "name": "stdout",
          "text": [
            "['saturday', 'Orange', 'sunday', 'monday', 'twesday', 'Wednesday', 'Thrusday', 'Friday', 100, True, False]\n"
          ]
        }
      ]
    },
    {
      "cell_type": "code",
      "source": [
        "list1=[\"saturday\", \"sunday\", \"monday\",\"twesday\",\"Wednesday\", \"Thrusday\",\"Friday\",100,True, False]\n",
        "list2=[\"January\", \"February\", \"March\",\"April\",\"May\", \"June\",\"July\"]\n",
        "list1.extend(list2) #list extend\n",
        "print(list1)"
      ],
      "metadata": {
        "colab": {
          "base_uri": "https://localhost:8080/"
        },
        "id": "MLaN8FIe9CHG",
        "outputId": "f81ab10d-f6b9-43bb-89e8-65ba51c1ad19"
      },
      "execution_count": null,
      "outputs": [
        {
          "output_type": "stream",
          "name": "stdout",
          "text": [
            "['saturday', 'sunday', 'monday', 'twesday', 'Wednesday', 'Thrusday', 'Friday', 100, True, False, 'January', 'February', 'March', 'April', 'May', 'June', 'July']\n"
          ]
        }
      ]
    },
    {
      "cell_type": "code",
      "source": [
        "list1=[\"saturday\", \"sunday\", \"monday\",\"twesday\",\"Wednesday\", \"Thrusday\",\"Friday\",100,True, False]\n",
        "list2=[\"January\", \"February\", \"March\",\"April\",\"May\", \"June\",\"July\"]\n",
        "list1.extend(list2) \n",
        "print(list1)"
      ],
      "metadata": {
        "colab": {
          "base_uri": "https://localhost:8080/",
          "height": 0
        },
        "id": "3ORxs4E51NmB",
        "outputId": "49549165-ae4a-459a-d0cb-ae7aaadd05b2"
      },
      "execution_count": 2,
      "outputs": [
        {
          "output_type": "stream",
          "name": "stdout",
          "text": [
            "['saturday', 'sunday', 'monday', 'twesday', 'Wednesday', 'Thrusday', 'Friday', 100, True, False, 'January', 'February', 'March', 'April', 'May', 'June', 'July']\n"
          ]
        }
      ]
    },
    {
      "cell_type": "code",
      "source": [
        "list1=[\"saturday\", \"sunday\", \"monday\",\"twesday\",\"Wednesday\", \"Thrusday\",\"Friday\",100,True, False]\n",
        "list1.remove(\"sunday\") #remove\n",
        "print(list1)"
      ],
      "metadata": {
        "colab": {
          "base_uri": "https://localhost:8080/"
        },
        "id": "zuIviir7-An0",
        "outputId": "f21b13ef-fc69-405e-86b0-956d976b29e7"
      },
      "execution_count": null,
      "outputs": [
        {
          "output_type": "stream",
          "name": "stdout",
          "text": [
            "['saturday', 'monday', 'twesday', 'Wednesday', 'Thrusday', 'Friday', 100, True, False]\n"
          ]
        }
      ]
    },
    {
      "cell_type": "code",
      "source": [
        "list1=[\"saturday\", \"sunday\", \"monday\",\"twesday\",\"Wednesday\", \"Thrusday\",\"Friday\",100,True, False]\n",
        "list1.pop(1) #remove by pop\n",
        "print(list1)"
      ],
      "metadata": {
        "colab": {
          "base_uri": "https://localhost:8080/"
        },
        "id": "A9NWqaPb-M3z",
        "outputId": "cb6b730e-8a2c-4859-929f-4a7e8ac92ae3"
      },
      "execution_count": null,
      "outputs": [
        {
          "output_type": "stream",
          "name": "stdout",
          "text": [
            "['saturday', 'monday', 'twesday', 'Wednesday', 'Thrusday', 'Friday', 100, True, False]\n"
          ]
        }
      ]
    },
    {
      "cell_type": "code",
      "source": [
        "list1=[\"saturday\", \"sunday\", \"monday\",\"twesday\",\"Wednesday\", \"Thrusday\",\"Friday\",100,True, False]\n",
        "list1.pop() #remove by pop\n",
        "print(list1)"
      ],
      "metadata": {
        "colab": {
          "base_uri": "https://localhost:8080/"
        },
        "id": "JsJvdQe0-iEL",
        "outputId": "6d70b9f8-7bd8-4350-bd88-8119a4708446"
      },
      "execution_count": null,
      "outputs": [
        {
          "output_type": "stream",
          "name": "stdout",
          "text": [
            "['saturday', 'sunday', 'monday', 'twesday', 'Wednesday', 'Thrusday', 'Friday', 100, True]\n"
          ]
        }
      ]
    },
    {
      "cell_type": "code",
      "source": [
        "list1=[\"saturday\", \"sunday\", \"monday\",\"twesday\",\"Wednesday\", \"Thrusday\",\"Friday\",100,True, False]\n",
        "del(list1[0]) #remove by del\n",
        "print(list1)"
      ],
      "metadata": {
        "colab": {
          "base_uri": "https://localhost:8080/"
        },
        "id": "yIH17McY-s5O",
        "outputId": "faf095dd-0f62-415c-ffcc-d0f8442a2ae9"
      },
      "execution_count": null,
      "outputs": [
        {
          "output_type": "stream",
          "name": "stdout",
          "text": [
            "['sunday', 'monday', 'twesday', 'Wednesday', 'Thrusday', 'Friday', 100, True, False]\n"
          ]
        }
      ]
    },
    {
      "cell_type": "code",
      "source": [
        "list=[\"saturday\", \"sunday\", \"monday\",\"twesday\",\"Wednesday\", \"Thrusday\",\"Friday\",100,True, False]\n",
        "list.clear() #clear the iteam\n",
        "print(list)"
      ],
      "metadata": {
        "colab": {
          "base_uri": "https://localhost:8080/"
        },
        "id": "lXsgWZbq9Ufz",
        "outputId": "6fe8b68e-0d43-44a2-c656-09d32e7fbe9c"
      },
      "execution_count": null,
      "outputs": [
        {
          "output_type": "stream",
          "name": "stdout",
          "text": [
            "[]\n"
          ]
        }
      ]
    },
    {
      "cell_type": "code",
      "source": [
        "list=[100,40,50,10,20,40,50,70,80]\n",
        "list.sort() # sort list\n",
        "print(list)"
      ],
      "metadata": {
        "colab": {
          "base_uri": "https://localhost:8080/"
        },
        "id": "X5k0no4fXNV4",
        "outputId": "27152e82-39d5-4800-d58f-c5a0ecc76826"
      },
      "execution_count": null,
      "outputs": [
        {
          "output_type": "stream",
          "name": "stdout",
          "text": [
            "[10, 20, 40, 40, 50, 50, 70, 80, 100]\n"
          ]
        }
      ]
    },
    {
      "cell_type": "code",
      "source": [
        "list=[100,40,50,10,20,40,50,70,80]\n",
        "list.sort(reverse=True) # sort list reverse\n",
        "print(list)"
      ],
      "metadata": {
        "colab": {
          "base_uri": "https://localhost:8080/"
        },
        "id": "hElKwsM8WO0M",
        "outputId": "212bccd7-f34e-4eb7-e977-57e094aa81ca"
      },
      "execution_count": null,
      "outputs": [
        {
          "output_type": "stream",
          "name": "stdout",
          "text": [
            "[100, 80, 70, 50, 50, 40, 40, 20, 10]\n"
          ]
        }
      ]
    },
    {
      "cell_type": "code",
      "source": [
        "list=[100,40,50,10,20,40,50,70,80]\n",
        "\n",
        "if 100 in list:     #condition\n",
        "    print(\"10 is in the list.\")"
      ],
      "metadata": {
        "colab": {
          "base_uri": "https://localhost:8080/",
          "height": 0
        },
        "id": "xY4iDJl31S1y",
        "outputId": "324bb142-d437-4db0-b11d-29e5a88c2eca"
      },
      "execution_count": 10,
      "outputs": [
        {
          "output_type": "stream",
          "name": "stdout",
          "text": [
            "10 is in the list.\n"
          ]
        }
      ]
    }
  ]
}
