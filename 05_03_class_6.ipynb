{
  "nbformat": 4,
  "nbformat_minor": 0,
  "metadata": {
    "colab": {
      "provenance": [],
      "authorship_tag": "ABX9TyMIAuRzVG/MJ+cIywjDpepc",
      "include_colab_link": true
    },
    "kernelspec": {
      "name": "python3",
      "display_name": "Python 3"
    },
    "language_info": {
      "name": "python"
    }
  },
  "cells": [
    {
      "cell_type": "markdown",
      "metadata": {
        "id": "view-in-github",
        "colab_type": "text"
      },
      "source": [
        "<a href=\"https://colab.research.google.com/github/sofonic71/python_bracISD/blob/main/05_03_class_6.ipynb\" target=\"_parent\"><img src=\"https://colab.research.google.com/assets/colab-badge.svg\" alt=\"Open In Colab\"/></a>"
      ]
    },
    {
      "cell_type": "code",
      "execution_count": 2,
      "metadata": {
        "colab": {
          "base_uri": "https://localhost:8080/"
        },
        "id": "u4lisSM5B0Ac",
        "outputId": "aed1244a-3754-41e3-e6a1-94dca58682c2"
      },
      "outputs": [
        {
          "output_type": "stream",
          "name": "stdout",
          "text": [
            "Enter the first number:3\n",
            "Select an operator(+,-,*,/):*\n",
            "Enter the second number:4.5\n",
            "The result is : 13.5\n"
          ]
        }
      ],
      "source": [
        "a=float(input('Enter the first number:'))\n",
        "op=input('Select an operator(+,-,*,/):')\n",
        "b=float(input('Enter the second number:'))\n",
        "\n",
        "if op=='+':\n",
        "  result=a+b\n",
        "elif op=='-':\n",
        "  result=a-b\n",
        "elif op=='*':\n",
        "  result=a*b\n",
        "elif op=='/':\n",
        "  result=a/b\n",
        "else:\n",
        "  result='Invalid operator'\n",
        "print(\"The result is :\",result)"
      ]
    },
    {
      "cell_type": "code",
      "source": [
        "def calculate_area(x,y):\n",
        "  print('The area of the rectangle is:',(x*y))\n",
        "\n",
        "def calculate_perimeter(x,y):\n",
        "  print('The perimeter of the rectangle is:',2*(x+y))\n",
        "\n",
        "length=int(input('Enter the length of the rectangle:'))\n",
        "width=int(input('Enter the width of the rectangle:'))\n",
        "\n",
        "calculate_area(length,width)  \n",
        "calculate_perimeter(length,width)\n",
        "  \n",
        "\n",
        "\n"
      ],
      "metadata": {
        "colab": {
          "base_uri": "https://localhost:8080/"
        },
        "id": "VQ9z6A5AFBOX",
        "outputId": "b5d4b76b-f038-4f3c-efb8-4988eb4a230f"
      },
      "execution_count": 10,
      "outputs": [
        {
          "output_type": "stream",
          "name": "stdout",
          "text": [
            "Enter the length of the rectangle:10\n",
            "Enter the width of the rectangle:5\n",
            "The area of the rectangle is: 50\n",
            "The perimeter of the rectangle is: 30\n"
          ]
        }
      ]
    },
    {
      "cell_type": "code",
      "source": [
        "my_range = int(input('range?'))\n",
        "my_list = []\n",
        "\n",
        "for i in range(my_range):\n",
        "    iteam = int(input('iteam {}:'.format(i+1)))\n",
        "\n",
        "    my_list.append(iteam)\n",
        "\n",
        "    sum=0\n",
        "    for iteam in my_list:\n",
        "        sum+=iteam\n",
        "\n",
        "    avg=sum/my_range\n",
        "\n",
        "print('The sum of the list is {}:'.format(sum))\n",
        "print('The avg of the list is {}:'.format(avg))"
      ],
      "metadata": {
        "id": "e_HOVasqrUhA"
      },
      "execution_count": null,
      "outputs": []
    }
  ]
}