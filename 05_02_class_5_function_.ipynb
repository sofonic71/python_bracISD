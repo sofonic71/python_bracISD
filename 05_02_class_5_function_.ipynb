{
  "nbformat": 4,
  "nbformat_minor": 0,
  "metadata": {
    "colab": {
      "provenance": [],
      "authorship_tag": "ABX9TyOE6/fknolP0HVL8jriNZaN",
      "include_colab_link": true
    },
    "kernelspec": {
      "name": "python3",
      "display_name": "Python 3"
    },
    "language_info": {
      "name": "python"
    }
  },
  "cells": [
    {
      "cell_type": "markdown",
      "metadata": {
        "id": "view-in-github",
        "colab_type": "text"
      },
      "source": [
        "<a href=\"https://colab.research.google.com/github/sofonic71/python_bracISD/blob/main/05_02_class_5_function_.ipynb\" target=\"_parent\"><img src=\"https://colab.research.google.com/assets/colab-badge.svg\" alt=\"Open In Colab\"/></a>"
      ]
    },
    {
      "cell_type": "code",
      "execution_count": null,
      "metadata": {
        "id": "VFtrKKF_6pPf"
      },
      "outputs": [],
      "source": [
        "#A function is a block of code which only runs when it is called.\n",
        "#You can pass data, known as parameters, into a function.\n",
        "#A function can return data as a result."
      ]
    },
    {
      "cell_type": "code",
      "source": [
        "def hello():\n",
        "  print('Hello python')\n",
        "\n",
        "hello()"
      ],
      "metadata": {
        "colab": {
          "base_uri": "https://localhost:8080/"
        },
        "id": "qy77FBwi7lMX",
        "outputId": "beae3bf7-0a24-4316-b4f6-81c909d38ca7"
      },
      "execution_count": 1,
      "outputs": [
        {
          "output_type": "stream",
          "name": "stdout",
          "text": [
            "Hello python\n"
          ]
        }
      ]
    },
    {
      "cell_type": "code",
      "source": [
        "def hello(x):\n",
        "    print(x)\n",
        "    #return x\n",
        "x=input('Enter a word:')\n",
        "hello(x)\n",
        "\n"
      ],
      "metadata": {
        "colab": {
          "base_uri": "https://localhost:8080/"
        },
        "id": "O4h3K9N07608",
        "outputId": "cbef395c-6ade-45da-e0b0-6105b99ba8a7"
      },
      "execution_count": 4,
      "outputs": [
        {
          "output_type": "stream",
          "name": "stdout",
          "text": [
            "Enter a word:hello python\n",
            "hello python\n"
          ]
        }
      ]
    },
    {
      "cell_type": "code",
      "source": [
        "def digit(x):\n",
        "  print(x + ' '+ 'digit')\n",
        "digit('10')\n",
        "digit('20')\n",
        "digit('30')"
      ],
      "metadata": {
        "colab": {
          "base_uri": "https://localhost:8080/"
        },
        "id": "pkUc2PffAeUx",
        "outputId": "f795c9e8-32cf-476d-ae63-aab9b27f4b16"
      },
      "execution_count": 16,
      "outputs": [
        {
          "output_type": "stream",
          "name": "stdout",
          "text": [
            "10 digit\n",
            "20 digit\n",
            "30 digit\n"
          ]
        }
      ]
    },
    {
      "cell_type": "code",
      "source": [
        "def address(fname,lname,email,phone):\n",
        "  print(fname + lname + email+phone)\n",
        "\n",
        "address('mahade' + ' ', 'hasan\\n','wtbl.hasan@gmail.com\\n','01771752777')\n"
      ],
      "metadata": {
        "colab": {
          "base_uri": "https://localhost:8080/"
        },
        "id": "fjI6fjBIDaTW",
        "outputId": "68f6c0cb-847f-4004-84a5-ce95a67bd1d0"
      },
      "execution_count": 27,
      "outputs": [
        {
          "output_type": "stream",
          "name": "stdout",
          "text": [
            "mahade hasan\n",
            "wtbl.hasan@gmail.com\n",
            "01771752777\n"
          ]
        }
      ]
    },
    {
      "cell_type": "code",
      "source": [
        "# Arbitrary Arguments, *args\n",
        "#If you do not know how many arguments that will be passed into your function, add a * before the parameter name in the function definition.\n",
        "#This way the function will receive a tuple of arguments, and can access the items accordingly:\n",
        "\n",
        "def anynomus(*args):\n",
        "  print('indexed value:'+ args[0])\n",
        "\n",
        "anynomus('10','20','30','40','50','60','70','80','90','100')\n"
      ],
      "metadata": {
        "colab": {
          "base_uri": "https://localhost:8080/"
        },
        "id": "Z0Xq6Kc2JFR-",
        "outputId": "a7229af2-ee48-4c76-870d-705df4b3f1b0"
      },
      "execution_count": 35,
      "outputs": [
        {
          "output_type": "stream",
          "name": "stdout",
          "text": [
            "indexed value:10\n"
          ]
        }
      ]
    },
    {
      "cell_type": "code",
      "source": [
        "#Keyword Arguments\n",
        "#You can also send arguments with the key = value syntax.\n",
        "#This way the order of the arguments does not matter.\n",
        "\n",
        "\n",
        "def keywordargs(x,y,z):\n",
        "    print(y)\n",
        "\n",
        "keywordargs(z='20',x='10', y='30')"
      ],
      "metadata": {
        "colab": {
          "base_uri": "https://localhost:8080/"
        },
        "id": "aRSN3eptLZif",
        "outputId": "320bd934-0c0d-45f9-a784-e0db81e8ef43"
      },
      "execution_count": 40,
      "outputs": [
        {
          "output_type": "stream",
          "name": "stdout",
          "text": [
            "30\n"
          ]
        }
      ]
    },
    {
      "cell_type": "code",
      "source": [
        "#Arbitrary Keyword Arguments, **kwargs\n",
        "#If you do not know how many keyword arguments that will be passed into your function, add two asterisk: ** before the parameter name in the function definition.\n",
        "#This way the function will receive a dictionary of arguments, and can access the items accordingly:\n",
        "\n",
        "def arbkeyargs(**args):\n",
        "    print(args['p'])\n",
        "\n",
        "arbkeyargs(x='10', y='20', z='30', p='40', q='50')"
      ],
      "metadata": {
        "colab": {
          "base_uri": "https://localhost:8080/"
        },
        "id": "E1RGm921NrPP",
        "outputId": "caadf0f8-7e81-45f1-9c56-e549a3059f33"
      },
      "execution_count": 41,
      "outputs": [
        {
          "output_type": "stream",
          "name": "stdout",
          "text": [
            "40\n"
          ]
        }
      ]
    },
    {
      "cell_type": "code",
      "source": [
        "#default parameter\n",
        "#If we call the function without argument, it uses the default value:\n",
        "\n",
        "def defaultparam(x=10):\n",
        "    print(x)\n",
        "defaultparam(20)\n",
        "defaultparam()\n",
        "defaultparam(100)\n"
      ],
      "metadata": {
        "colab": {
          "base_uri": "https://localhost:8080/"
        },
        "id": "oDKQnMboQCvt",
        "outputId": "11de544e-6e78-461c-d969-d914aed9f4ef"
      },
      "execution_count": 45,
      "outputs": [
        {
          "output_type": "stream",
          "name": "stdout",
          "text": [
            "20\n",
            "10\n",
            "100\n"
          ]
        }
      ]
    },
    {
      "cell_type": "code",
      "source": [
        "#Passing a List as an Argument\n",
        "def passlist(x):\n",
        "    print(x[2])\n",
        "\n",
        "    print('\\n')\n",
        "    for i in x:\n",
        "      if i==20:\n",
        "        continue\n",
        "      elif i==50:\n",
        "        break\n",
        "      else:\n",
        "        print(i)\n",
        "\n",
        "      for j in x:\n",
        "        print(j*'*')\n",
        "\n",
        "\n",
        "      \n",
        "    \n",
        "\n",
        "a=[10,20,30,40,50,60,70,80,90,100]\n",
        "passlist(a)\n"
      ],
      "metadata": {
        "colab": {
          "base_uri": "https://localhost:8080/"
        },
        "id": "fNk268RyRznT",
        "outputId": "2a69b369-eff3-4cb0-ced4-58b926d6cd79"
      },
      "execution_count": 73,
      "outputs": [
        {
          "output_type": "stream",
          "name": "stdout",
          "text": [
            "30\n",
            "\n",
            "\n",
            "10\n",
            "**********\n",
            "********************\n",
            "******************************\n",
            "****************************************\n",
            "**************************************************\n",
            "************************************************************\n",
            "**********************************************************************\n",
            "********************************************************************************\n",
            "******************************************************************************************\n",
            "****************************************************************************************************\n",
            "30\n",
            "**********\n",
            "********************\n",
            "******************************\n",
            "****************************************\n",
            "**************************************************\n",
            "************************************************************\n",
            "**********************************************************************\n",
            "********************************************************************************\n",
            "******************************************************************************************\n",
            "****************************************************************************************************\n",
            "40\n",
            "**********\n",
            "********************\n",
            "******************************\n",
            "****************************************\n",
            "**************************************************\n",
            "************************************************************\n",
            "**********************************************************************\n",
            "********************************************************************************\n",
            "******************************************************************************************\n",
            "****************************************************************************************************\n"
          ]
        }
      ]
    },
    {
      "cell_type": "code",
      "source": [
        "def x(x=30):\n",
        "  return x*5\n",
        "x(10)\n",
        "x(20)\n",
        "x()\n",
        "x(100)"
      ],
      "metadata": {
        "colab": {
          "base_uri": "https://localhost:8080/"
        },
        "id": "C-sRA_gEd--C",
        "outputId": "56a62a2f-b920-49bd-bb5c-f4caf62f28c7"
      },
      "execution_count": 77,
      "outputs": [
        {
          "output_type": "execute_result",
          "data": {
            "text/plain": [
              "500"
            ]
          },
          "metadata": {},
          "execution_count": 77
        }
      ]
    },
    {
      "cell_type": "code",
      "source": [
        "#pass\n",
        "\n",
        "def x(x=10):\n",
        "  pass\n"
      ],
      "metadata": {
        "id": "sZYQifeqfGe4"
      },
      "execution_count": 83,
      "outputs": []
    },
    {
      "cell_type": "code",
      "source": [
        "#recursion\n",
        "\n",
        "def tri_recursion(k):\n",
        "  if k > 0:\n",
        "    result = k + tri_recursion(k - 1)\n",
        "    print(result)\n",
        "  else:\n",
        "    result = 0\n",
        "  return result\n",
        "\n",
        "tri_recursion(6)\n"
      ],
      "metadata": {
        "colab": {
          "base_uri": "https://localhost:8080/"
        },
        "id": "d5b8UytJgjl5",
        "outputId": "c29e2144-bd96-4c82-cc4f-4bc2033fbfa9"
      },
      "execution_count": 95,
      "outputs": [
        {
          "output_type": "stream",
          "name": "stdout",
          "text": [
            "1\n",
            "3\n",
            "6\n",
            "10\n",
            "15\n",
            "21\n"
          ]
        },
        {
          "output_type": "execute_result",
          "data": {
            "text/plain": [
              "21"
            ]
          },
          "metadata": {},
          "execution_count": 95
        }
      ]
    }
  ]
}