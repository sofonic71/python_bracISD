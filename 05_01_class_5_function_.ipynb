{
  "nbformat": 4,
  "nbformat_minor": 0,
  "metadata": {
    "colab": {
      "provenance": [],
      "authorship_tag": "ABX9TyNA4+m6IasnM3m2oXFM+/ey",
      "include_colab_link": true
    },
    "kernelspec": {
      "name": "python3",
      "display_name": "Python 3"
    },
    "language_info": {
      "name": "python"
    }
  },
  "cells": [
    {
      "cell_type": "markdown",
      "metadata": {
        "id": "view-in-github",
        "colab_type": "text"
      },
      "source": [
        "<a href=\"https://colab.research.google.com/github/sofonic71/python_bracISD/blob/main/05_01_class_5_function_.ipynb\" target=\"_parent\"><img src=\"https://colab.research.google.com/assets/colab-badge.svg\" alt=\"Open In Colab\"/></a>"
      ]
    },
    {
      "cell_type": "code",
      "source": [
        "def a(i):\n",
        "  print(i)\n",
        "    \n",
        "a(5)"
      ],
      "metadata": {
        "id": "fG8Jc1IPnVVG",
        "outputId": "c693ab81-3551-4f7f-f793-269ab4c53b4d",
        "colab": {
          "base_uri": "https://localhost:8080/"
        }
      },
      "execution_count": 7,
      "outputs": [
        {
          "output_type": "stream",
          "name": "stdout",
          "text": [
            "5\n"
          ]
        }
      ]
    },
    {
      "cell_type": "code",
      "source": [
        "def mahade(a,b,c):\n",
        "  print(a,b,c)\n",
        "\n",
        "mahade(10,20,30)\n"
      ],
      "metadata": {
        "colab": {
          "base_uri": "https://localhost:8080/"
        },
        "id": "Gc_4OnQBCnNY",
        "outputId": "070c0ceb-b57a-4a2f-d043-7cc02d2d1a2e"
      },
      "execution_count": null,
      "outputs": [
        {
          "output_type": "stream",
          "name": "stdout",
          "text": [
            "10 20 30\n"
          ]
        }
      ]
    },
    {
      "cell_type": "code",
      "source": [
        "def mahade(a,b,c=50):\n",
        "  print(a,b,c)\n",
        "\n",
        "mahade(30,40)"
      ],
      "metadata": {
        "colab": {
          "base_uri": "https://localhost:8080/"
        },
        "id": "HUeOqqmnCnCL",
        "outputId": "8dd14e27-00b5-49e2-8a78-1bde809aa54a"
      },
      "execution_count": null,
      "outputs": [
        {
          "output_type": "stream",
          "name": "stdout",
          "text": [
            "30 40 50\n"
          ]
        }
      ]
    },
    {
      "cell_type": "code",
      "source": [
        "def mahade(a,b,c=50):\n",
        "    return(a,b,c)\n",
        "\n",
        "mahade(30,40)"
      ],
      "metadata": {
        "colab": {
          "base_uri": "https://localhost:8080/"
        },
        "id": "v9pwhA3fCmxi",
        "outputId": "e965bcee-9a1c-4c4f-f91e-e0490166a96f"
      },
      "execution_count": null,
      "outputs": [
        {
          "output_type": "execute_result",
          "data": {
            "text/plain": [
              "(30, 40, 50)"
            ]
          },
          "metadata": {},
          "execution_count": 22
        }
      ]
    },
    {
      "cell_type": "code",
      "source": [
        "def star(i):\n",
        "  for i in range(i):\n",
        "    print(i*'*')\n",
        "\n",
        "star(10)"
      ],
      "metadata": {
        "id": "fDnFQV4tpom7",
        "outputId": "8ea969e9-e574-4fee-e0e2-be391548b3fb",
        "colab": {
          "base_uri": "https://localhost:8080/"
        }
      },
      "execution_count": 9,
      "outputs": [
        {
          "output_type": "stream",
          "name": "stdout",
          "text": [
            "\n",
            "*\n",
            "**\n",
            "***\n",
            "****\n",
            "*****\n",
            "******\n",
            "*******\n",
            "********\n",
            "*********\n"
          ]
        }
      ]
    },
    {
      "cell_type": "code",
      "source": [
        "def star(i):\n",
        "  for i in reversed(range(i)):\n",
        "    print(i*'*')\n",
        "\n",
        "star(10)"
      ],
      "metadata": {
        "id": "Z2Evdu3wp10Y",
        "outputId": "d37619e6-6b73-4ad3-f056-459c403a730f",
        "colab": {
          "base_uri": "https://localhost:8080/"
        }
      },
      "execution_count": 10,
      "outputs": [
        {
          "output_type": "stream",
          "name": "stdout",
          "text": [
            "*********\n",
            "********\n",
            "*******\n",
            "******\n",
            "*****\n",
            "****\n",
            "***\n",
            "**\n",
            "*\n",
            "\n"
          ]
        }
      ]
    },
    {
      "cell_type": "code",
      "source": [
        "# basic calculator using function \n",
        "def calculator(num1,op,num2):\n",
        "  if op=='+':\n",
        "    print(num1+num2)\n",
        "  elif op=='-':\n",
        "    print(num1-num2) \n",
        "  elif op=='*':\n",
        "    print(num1*num2)\n",
        "  elif op=='/' and num2 !='0':\n",
        "    print(num1/num2)\n",
        "  else:\n",
        "    print('Invalid Operator')\n",
        "\n",
        "\n",
        "num1=float(input('Enter 1st number:'))\n",
        "op=input('Enter operator:')\n",
        "num2=float(input('Enter 2nd number:'))\n",
        "\n",
        "calculator(num1,op,num2)\n"
      ],
      "metadata": {
        "colab": {
          "base_uri": "https://localhost:8080/"
        },
        "id": "hMs_zRUkCkKu",
        "outputId": "7e5a2999-1d05-4aff-eefc-406d933787c4"
      },
      "execution_count": null,
      "outputs": [
        {
          "output_type": "stream",
          "name": "stdout",
          "text": [
            "Enter 1st number:10\n",
            "Enter operator:+\n",
            "Enter 2nd number:10\n",
            "20.0\n"
          ]
        }
      ]
    },
    {
      "cell_type": "code",
      "execution_count": null,
      "metadata": {
        "colab": {
          "base_uri": "https://localhost:8080/"
        },
        "id": "DI2_7MpG7g6d",
        "outputId": "835c2ef1-b858-49b5-af8f-c7102dea99e5"
      },
      "outputs": [
        {
          "output_type": "stream",
          "name": "stdout",
          "text": [
            "Enter value 01:10\n",
            "Enter Operator:+\n",
            "Enter value 02:30\n",
            "40.0\n"
          ]
        }
      ],
      "source": [
        "# basic calculator using function \n",
        "def add(x,y):\n",
        "  return x+y\n",
        "\n",
        "def subtruct(x,y):\n",
        "  return x-y\n",
        "\n",
        "def multiply(x,y):\n",
        "  return x*y\n",
        "\n",
        "def division(x,y):\n",
        "  return x/y\n",
        "\n",
        "\n",
        "x=float(input('Enter value 01:'))\n",
        "op=input('Enter Operator:')\n",
        "y=float(input('Enter value 02:'))\n",
        "\n",
        "if op=='+':\n",
        "  print(add(x,y))\n",
        "\n",
        "elif op=='-':\n",
        "  print(subtruct(x,y))\n",
        "\n",
        "elif op=='*':\n",
        "  print(multiply(x,y))\n",
        "\n",
        "elif op=='/':\n",
        "  print(division(x,y))\n",
        "\n",
        "else:\n",
        "  print('Invalid Operator.')\n"
      ]
    }
  ]
}