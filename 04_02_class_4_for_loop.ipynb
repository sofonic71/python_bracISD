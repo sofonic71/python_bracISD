{
  "nbformat": 4,
  "nbformat_minor": 0,
  "metadata": {
    "colab": {
      "provenance": [],
      "authorship_tag": "ABX9TyNGqjGBAEt0ITNR6ZcCO6/h",
      "include_colab_link": true
    },
    "kernelspec": {
      "name": "python3",
      "display_name": "Python 3"
    },
    "language_info": {
      "name": "python"
    }
  },
  "cells": [
    {
      "cell_type": "markdown",
      "metadata": {
        "id": "view-in-github",
        "colab_type": "text"
      },
      "source": [
        "<a href=\"https://colab.research.google.com/github/sofonic71/python_bracISD/blob/main/04_02_class_4_for_loop.ipynb\" target=\"_parent\"><img src=\"https://colab.research.google.com/assets/colab-badge.svg\" alt=\"Open In Colab\"/></a>"
      ]
    },
    {
      "cell_type": "code",
      "execution_count": 1,
      "metadata": {
        "id": "bFfS4fds1Dli",
        "colab": {
          "base_uri": "https://localhost:8080/"
        },
        "outputId": "dd03084e-04df-47be-9153-e44a8af2d809"
      },
      "outputs": [
        {
          "output_type": "stream",
          "name": "stdout",
          "text": [
            "0\n",
            "1\n",
            "2\n",
            "3\n",
            "4\n",
            "5\n",
            "6\n",
            "7\n",
            "8\n",
            "9\n"
          ]
        }
      ],
      "source": [
        "for i in range(10):\n",
        "  print(i)\n"
      ]
    },
    {
      "cell_type": "code",
      "source": [
        "a=10\n",
        "for i in range(5,a):\n",
        "  print(i)"
      ],
      "metadata": {
        "colab": {
          "base_uri": "https://localhost:8080/"
        },
        "id": "QHVbWIAt5D8R",
        "outputId": "edbeda57-e5fa-47bb-bd4a-dd320f2cc7e8"
      },
      "execution_count": 2,
      "outputs": [
        {
          "output_type": "stream",
          "name": "stdout",
          "text": [
            "5\n",
            "6\n",
            "7\n",
            "8\n",
            "9\n"
          ]
        }
      ]
    },
    {
      "cell_type": "code",
      "source": [
        "a=10\n",
        "for i in range(0,a,2):\n",
        "  print(i)"
      ],
      "metadata": {
        "colab": {
          "base_uri": "https://localhost:8080/"
        },
        "id": "UtW63txF5VEh",
        "outputId": "fd1266e0-61ea-4b85-d6da-710d5b1751ed"
      },
      "execution_count": 3,
      "outputs": [
        {
          "output_type": "stream",
          "name": "stdout",
          "text": [
            "0\n",
            "2\n",
            "4\n",
            "6\n",
            "8\n"
          ]
        }
      ]
    },
    {
      "cell_type": "code",
      "source": [
        "a=10\n",
        "for i in range(1,a,2):\n",
        "  print(i)"
      ],
      "metadata": {
        "colab": {
          "base_uri": "https://localhost:8080/"
        },
        "id": "gI_ZiANo5bXv",
        "outputId": "d7d73130-8981-4e79-c146-ea91ed24bd0c"
      },
      "execution_count": 4,
      "outputs": [
        {
          "output_type": "stream",
          "name": "stdout",
          "text": [
            "1\n",
            "3\n",
            "5\n",
            "7\n",
            "9\n"
          ]
        }
      ]
    },
    {
      "cell_type": "code",
      "source": [
        "a=10\n",
        "for i in range(a):\n",
        "  print(i*'$')"
      ],
      "metadata": {
        "colab": {
          "base_uri": "https://localhost:8080/"
        },
        "id": "vkEIJYkm5lOm",
        "outputId": "d740a369-80d2-41b0-99b6-43deadd97a89"
      },
      "execution_count": 5,
      "outputs": [
        {
          "output_type": "stream",
          "name": "stdout",
          "text": [
            "\n",
            "$\n",
            "$$\n",
            "$$$\n",
            "$$$$\n",
            "$$$$$\n",
            "$$$$$$\n",
            "$$$$$$$\n",
            "$$$$$$$$\n",
            "$$$$$$$$$\n"
          ]
        }
      ]
    },
    {
      "cell_type": "code",
      "source": [
        "a=10\n",
        "for i in range(3,a):\n",
        "  print(i*'$')"
      ],
      "metadata": {
        "colab": {
          "base_uri": "https://localhost:8080/"
        },
        "id": "KghrV6855tS-",
        "outputId": "f0c7c181-2afc-48ae-b1ae-c8ddd7b890ae"
      },
      "execution_count": 6,
      "outputs": [
        {
          "output_type": "stream",
          "name": "stdout",
          "text": [
            "$$$\n",
            "$$$$\n",
            "$$$$$\n",
            "$$$$$$\n",
            "$$$$$$$\n",
            "$$$$$$$$\n",
            "$$$$$$$$$\n"
          ]
        }
      ]
    },
    {
      "cell_type": "code",
      "source": [
        "a=10\n",
        "for i in range(0,a,2):\n",
        "  print(i*'$')"
      ],
      "metadata": {
        "colab": {
          "base_uri": "https://localhost:8080/"
        },
        "id": "txRPc0Sd5yls",
        "outputId": "f518e5fa-029d-4501-8bb1-3a51fc014784"
      },
      "execution_count": 7,
      "outputs": [
        {
          "output_type": "stream",
          "name": "stdout",
          "text": [
            "\n",
            "$$\n",
            "$$$$\n",
            "$$$$$$\n",
            "$$$$$$$$\n"
          ]
        }
      ]
    },
    {
      "cell_type": "code",
      "source": [
        "a=10\n",
        "for i in range(1,a,2):\n",
        "  print(i*'$')"
      ],
      "metadata": {
        "colab": {
          "base_uri": "https://localhost:8080/"
        },
        "id": "QFWikyHJ57yb",
        "outputId": "e5ead0de-9472-4028-9628-2a1552b707f5"
      },
      "execution_count": 8,
      "outputs": [
        {
          "output_type": "stream",
          "name": "stdout",
          "text": [
            "$\n",
            "$$$\n",
            "$$$$$\n",
            "$$$$$$$\n",
            "$$$$$$$$$\n"
          ]
        }
      ]
    },
    {
      "cell_type": "code",
      "source": [
        "for i in reversed(range(10)):\n",
        "  print(i)"
      ],
      "metadata": {
        "colab": {
          "base_uri": "https://localhost:8080/"
        },
        "id": "fy0gEkfg6Gny",
        "outputId": "05cb0b00-e504-4963-e800-5c5b65d78aac"
      },
      "execution_count": 9,
      "outputs": [
        {
          "output_type": "stream",
          "name": "stdout",
          "text": [
            "9\n",
            "8\n",
            "7\n",
            "6\n",
            "5\n",
            "4\n",
            "3\n",
            "2\n",
            "1\n",
            "0\n"
          ]
        }
      ]
    },
    {
      "cell_type": "code",
      "source": [
        "for i in reversed(range(10)):\n",
        "  print(i*'$')"
      ],
      "metadata": {
        "colab": {
          "base_uri": "https://localhost:8080/"
        },
        "id": "Usj20A-v6WXB",
        "outputId": "a87cde8a-5da0-4a47-cac5-4aa48ba5665f"
      },
      "execution_count": 10,
      "outputs": [
        {
          "output_type": "stream",
          "name": "stdout",
          "text": [
            "$$$$$$$$$\n",
            "$$$$$$$$\n",
            "$$$$$$$\n",
            "$$$$$$\n",
            "$$$$$\n",
            "$$$$\n",
            "$$$\n",
            "$$\n",
            "$\n",
            "\n"
          ]
        }
      ]
    }
  ]
}