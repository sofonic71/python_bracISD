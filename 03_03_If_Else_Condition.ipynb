{
  "nbformat": 4,
  "nbformat_minor": 0,
  "metadata": {
    "colab": {
      "provenance": [],
      "authorship_tag": "ABX9TyNwWusxkhacWEpuZYgtq2pd",
      "include_colab_link": true
    },
    "kernelspec": {
      "name": "python3",
      "display_name": "Python 3"
    },
    "language_info": {
      "name": "python"
    }
  },
  "cells": [
    {
      "cell_type": "markdown",
      "metadata": {
        "id": "view-in-github",
        "colab_type": "text"
      },
      "source": [
        "<a href=\"https://colab.research.google.com/github/sofonic71/python_bracISD/blob/main/03_03_If_Else_Condition.ipynb\" target=\"_parent\"><img src=\"https://colab.research.google.com/assets/colab-badge.svg\" alt=\"Open In Colab\"/></a>"
      ]
    },
    {
      "cell_type": "code",
      "execution_count": 8,
      "metadata": {
        "colab": {
          "base_uri": "https://localhost:8080/"
        },
        "id": "wv_HvkgPJ0ST",
        "outputId": "0f28c57d-72ec-4486-92bb-08d5af70b580"
      },
      "outputs": [
        {
          "output_type": "stream",
          "name": "stdout",
          "text": [
            "a is equal to b\n"
          ]
        }
      ],
      "source": [
        "#Ternary Operators, or Conditional Expressions.\n",
        "a=100\n",
        "b=100\n",
        "\n",
        "print('a is greater than b') if a>b else print('a is smaller than b') if a<b else print('a is equal to b')"
      ]
    },
    {
      "cell_type": "code",
      "source": [
        "a=100\n",
        "b=200\n",
        "\n",
        "if not a>b:\n",
        "  print('a is smaller than b')"
      ],
      "metadata": {
        "colab": {
          "base_uri": "https://localhost:8080/"
        },
        "id": "J51uHe-nN7pp",
        "outputId": "1fb9f5ad-d740-4f0e-a53d-e9ac23453d90"
      },
      "execution_count": 9,
      "outputs": [
        {
          "output_type": "stream",
          "name": "stdout",
          "text": [
            "a is smaller than b\n"
          ]
        }
      ]
    },
    {
      "cell_type": "code",
      "source": [
        "# nested if\n",
        "\n",
        "a=200\n",
        "b=200\n",
        "\n",
        "if a<b:\n",
        "  print('100 is smaller than 200')\n",
        "  if b==200:\n",
        "    print('b is equal to 200')\n",
        "elif a>b:\n",
        "  print('100 is greater than 200')\n",
        "else:\n",
        "  print('a is equal to b')\n"
      ],
      "metadata": {
        "colab": {
          "base_uri": "https://localhost:8080/"
        },
        "id": "YRmNARr1L2pd",
        "outputId": "35f71bef-9639-4eff-b919-e10c55573104"
      },
      "execution_count": 14,
      "outputs": [
        {
          "output_type": "stream",
          "name": "stdout",
          "text": [
            "a is equal to b\n"
          ]
        }
      ]
    },
    {
      "cell_type": "code",
      "source": [
        "# pass statement to avoid errors\n",
        "a=100\n",
        "b=200\n",
        "if a>b:\n",
        "  pass"
      ],
      "metadata": {
        "id": "CtJsTgFiRBxn"
      },
      "execution_count": 18,
      "outputs": []
    }
  ]
}