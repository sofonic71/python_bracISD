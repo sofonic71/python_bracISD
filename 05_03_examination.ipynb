{
  "nbformat": 4,
  "nbformat_minor": 0,
  "metadata": {
    "colab": {
      "provenance": [],
      "authorship_tag": "ABX9TyM3V1oGZvMX7V+gU53lmrzp",
      "include_colab_link": true
    },
    "kernelspec": {
      "name": "python3",
      "display_name": "Python 3"
    },
    "language_info": {
      "name": "python"
    }
  },
  "cells": [
    {
      "cell_type": "markdown",
      "metadata": {
        "id": "view-in-github",
        "colab_type": "text"
      },
      "source": [
        "<a href=\"https://colab.research.google.com/github/sofonic71/python_bracISD/blob/main/05_03_examination.ipynb\" target=\"_parent\"><img src=\"https://colab.research.google.com/assets/colab-badge.svg\" alt=\"Open In Colab\"/></a>"
      ]
    },
    {
      "cell_type": "code",
      "execution_count": 12,
      "metadata": {
        "colab": {
          "base_uri": "https://localhost:8080/"
        },
        "id": "u4lisSM5B0Ac",
        "outputId": "74fd43cd-e6e9-4323-a187-dddb5b72ec91"
      },
      "outputs": [
        {
          "output_type": "stream",
          "name": "stdout",
          "text": [
            "Enter the first number:10\n",
            "Select an operator(+,-,*,/):+\n",
            "Enter the second number:10\n",
            "The result is :20.0\n"
          ]
        }
      ],
      "source": [
        "a=float(input('Enter the first number:'))\n",
        "op=input('Select an operator(+,-,*,/):')\n",
        "b=float(input('Enter the second number:'))\n",
        "\n",
        "if op=='+':\n",
        "  result=a+b\n",
        "elif op=='-':\n",
        "  result=a-b\n",
        "elif op=='*':\n",
        "  result=a*b\n",
        "elif op=='/':\n",
        "  result=a/b\n",
        "else:\n",
        "  result='Invalid operator'\n",
        "print(\"The result is :{}\".format(result))"
      ]
    },
    {
      "cell_type": "code",
      "source": [
        "def calculate_area(x,y):\n",
        "  print('The area of the rectangle is:{}'.format((x*y)))\n",
        "\n",
        "def calculate_perimeter(x,y):\n",
        "  print('The perimeter of the rectangle is:{}'.format(2*(x+y)))\n",
        "\n",
        "length=int(input('Enter the length of the rectangle:'))\n",
        "width=int(input('Enter the width of the rectangle:'))\n",
        "\n",
        "calculate_area(length,width)  \n",
        "calculate_perimeter(length,width)\n",
        "  \n",
        "\n",
        "\n"
      ],
      "metadata": {
        "colab": {
          "base_uri": "https://localhost:8080/"
        },
        "id": "VQ9z6A5AFBOX",
        "outputId": "e5c8b166-e831-40e7-c289-b6aaadc4263b"
      },
      "execution_count": 11,
      "outputs": [
        {
          "output_type": "stream",
          "name": "stdout",
          "text": [
            "Enter the length of the rectangle:10\n",
            "Enter the width of the rectangle:20\n",
            "The area of the rectangle is:200\n",
            "The perimeter of the rectangle is:60\n"
          ]
        }
      ]
    },
    {
      "cell_type": "code",
      "source": [
        "#the placeholders {} are used in the string to indicate where the variables name and age should be inserted. \n",
        "#The .format() method then replaces the placeholders with the corresponding values of the variables.\n",
        "\n",
        "#Using .format() can be very useful when constructing strings that require dynamic data. \n",
        "#It allows you to easily include variables, numbers, or other values in a string, without having to concatenate strings and variables using the + operator. \n",
        "#It also provides additional formatting options, such as specifying the number of decimal places to display for floating point numbers or padding strings with spaces.\n",
        "\n",
        "my_list=[]\n",
        "num_range=int(input('Range? : '))\n",
        "\n",
        "for i in range (num_range):\n",
        "  num=int(input('num {}:'.format(i+1)))\n",
        "  my_list.append(num)\n",
        "print('list is:{}'.format(my_list))\n",
        "print('length is:{}'.format(len(my_list)))\n",
        "\n",
        "sum=0\n",
        "for num in my_list:\n",
        "  sum=sum+num\n",
        "print('sum is:{}'.format(sum))\n",
        "\n",
        "avg=sum/num_range\n",
        "print('avg is:{}'.format(avg))\n"
      ],
      "metadata": {
        "id": "e_HOVasqrUhA",
        "colab": {
          "base_uri": "https://localhost:8080/"
        },
        "outputId": "44a45767-24cd-483e-b35a-dac8dd8227b6"
      },
      "execution_count": 10,
      "outputs": [
        {
          "output_type": "stream",
          "name": "stdout",
          "text": [
            "Range? : 5\n",
            "num 1:10\n",
            "num 2:15\n",
            "num 3:20\n",
            "num 4:25\n",
            "num 5:30\n",
            "list is:[10, 15, 20, 25, 30]\n",
            "length is:5\n",
            "sum is:100\n",
            "avg is:20.0\n"
          ]
        }
      ]
    }
  ]
}