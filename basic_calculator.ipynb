{
  "nbformat": 4,
  "nbformat_minor": 0,
  "metadata": {
    "colab": {
      "provenance": [],
      "authorship_tag": "ABX9TyM6z0S/nOoIOOAHtemAyCUv",
      "include_colab_link": true
    },
    "kernelspec": {
      "name": "python3",
      "display_name": "Python 3"
    },
    "language_info": {
      "name": "python"
    }
  },
  "cells": [
    {
      "cell_type": "markdown",
      "metadata": {
        "id": "view-in-github",
        "colab_type": "text"
      },
      "source": [
        "<a href=\"https://colab.research.google.com/github/sofonic71/python_bracISD/blob/main/basic_calculator.ipynb\" target=\"_parent\"><img src=\"https://colab.research.google.com/assets/colab-badge.svg\" alt=\"Open In Colab\"/></a>"
      ]
    },
    {
      "cell_type": "code",
      "execution_count": 19,
      "metadata": {
        "colab": {
          "base_uri": "https://localhost:8080/"
        },
        "id": "iXgFs6ex0wzf",
        "outputId": "981640cc-fd25-425e-85cb-d57c63ccbe8c"
      },
      "outputs": [
        {
          "output_type": "stream",
          "name": "stdout",
          "text": [
            "marks:32\n",
            "F\n",
            "Your grade is: E\n"
          ]
        }
      ],
      "source": [
        "marks=float(input('marks:'))\n",
        "if marks>=80 and marks<=100:\n",
        "  grade=\"A+\"\n",
        "elif marks>=70 and marks<80:\n",
        "  grade=\"A\"\n",
        "elif marks>=60 and marks<70:\n",
        "  grade=\"B\"\n",
        "elif marks>=50 and marks<60:\n",
        "  grade=\"C\"\n",
        "elif marks>=40 and marks<50:\n",
        "  grade=\"D\"\n",
        "elif marks>=33 and marks<40:\n",
        "  grade=\"E\"\n",
        "else:\n",
        "  print(\"F\")\n",
        "\n",
        "print('Your grade is:',grade)"
      ]
    },
    {
      "cell_type": "code",
      "source": [],
      "metadata": {
        "id": "guNFf4Gnm740"
      },
      "execution_count": null,
      "outputs": []
    }
  ]
}