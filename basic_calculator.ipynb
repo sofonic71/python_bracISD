{
  "nbformat": 4,
  "nbformat_minor": 0,
  "metadata": {
    "colab": {
      "provenance": [],
      "authorship_tag": "ABX9TyMVZLOaR2ceuQVlNud4jxBp",
      "include_colab_link": true
    },
    "kernelspec": {
      "name": "python3",
      "display_name": "Python 3"
    },
    "language_info": {
      "name": "python"
    }
  },
  "cells": [
    {
      "cell_type": "markdown",
      "metadata": {
        "id": "view-in-github",
        "colab_type": "text"
      },
      "source": [
        "<a href=\"https://colab.research.google.com/github/sofonic71/python_bracISD/blob/main/basic_calculator.ipynb\" target=\"_parent\"><img src=\"https://colab.research.google.com/assets/colab-badge.svg\" alt=\"Open In Colab\"/></a>"
      ]
    },
    {
      "cell_type": "code",
      "execution_count": 9,
      "metadata": {
        "colab": {
          "base_uri": "https://localhost:8080/"
        },
        "id": "US5QHT4MiaL_",
        "outputId": "6c08b7db-3197-4cda-d00b-8d3677af58f8"
      },
      "outputs": [
        {
          "output_type": "stream",
          "name": "stdout",
          "text": [
            "Enter 1st number:100\n",
            "Enter operator:/\n",
            "Enter 2nd number:200\n",
            "result: 0.5\n"
          ]
        }
      ],
      "source": [
        "a=float(input('Enter 1st number:'))\n",
        "op=input('Enter operator:')\n",
        "b=float(input('Enter 2nd number:'))\n",
        "\n",
        "if op=='+':\n",
        "  result=a+b\n",
        "elif op=='-':\n",
        "  result=a-b\n",
        "elif op=='*':\n",
        "  result=a*b\n",
        "elif op=='/':\n",
        "  result=a/b\n",
        "else:\n",
        "  result='Invalid operator'\n",
        "print(\"result:\",result)"
      ]
    }
  ]
}