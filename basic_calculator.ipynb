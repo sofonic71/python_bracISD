{
  "nbformat": 4,
  "nbformat_minor": 0,
  "metadata": {
    "colab": {
      "provenance": [],
      "authorship_tag": "ABX9TyPhTqG4gP6oDxZf/gumY42s",
      "include_colab_link": true
    },
    "kernelspec": {
      "name": "python3",
      "display_name": "Python 3"
    },
    "language_info": {
      "name": "python"
    }
  },
  "cells": [
    {
      "cell_type": "markdown",
      "metadata": {
        "id": "view-in-github",
        "colab_type": "text"
      },
      "source": [
        "<a href=\"https://colab.research.google.com/github/sofonic71/python_bracISD/blob/main/basic_calculator.ipynb\" target=\"_parent\"><img src=\"https://colab.research.google.com/assets/colab-badge.svg\" alt=\"Open In Colab\"/></a>"
      ]
    },
    {
      "cell_type": "code",
      "execution_count": 9,
      "metadata": {
        "colab": {
          "base_uri": "https://localhost:8080/"
        },
        "id": "US5QHT4MiaL_",
        "outputId": "fcebdd28-82ad-47e6-d70b-ff7ad287635d"
      },
      "outputs": [
        {
          "output_type": "stream",
          "name": "stdout",
          "text": [
            "Enter 1st number:10\n",
            "Enter operator:/\n",
            "Enter 2nd number:20\n",
            "result: 0.5\n"
          ]
        }
      ],
      "source": [
        "a=float(input('Enter 1st number:'))\n",
        "op=input('Enter operator:')\n",
        "b=float(input('Enter 2nd number:'))\n",
        "\n",
        "if op=='+':\n",
        "  result=a+b\n",
        "elif op=='-':\n",
        "  result=a-b\n",
        "elif op=='*':\n",
        "  result=a*b\n",
        "elif op=='/':\n",
        "  result=a/b\n",
        "else:\n",
        "  result='Invalid operator'\n",
        "print(\"result:\",result)"
      ]
    },
    {
      "cell_type": "code",
      "source": [
        "#function add subtruct multiply division\n",
        "def add(x,y):\n",
        "  return x+y\n",
        "\n",
        "def subtruct(x,y):\n",
        "  return x-y\n",
        "\n",
        "def multiply(x,y):\n",
        "  return x*y\n",
        "\n",
        "def division(x,y):\n",
        "  return x/y\n",
        "\n",
        "p=float(input('Enter number1:'))\n",
        "q=float(input('Enter number2:'))\n",
        "\n",
        "print(\"1.add\")\n",
        "print(\"2.subtruct\")\n",
        "print(\"3.multiply\")\n",
        "print(\"4.division\")\n",
        "\n",
        "choice=input('Enter your choice 1/2/3/4:')\n",
        "\n",
        "if choice=='1':\n",
        "  print(p,'+',q,'=',add(p,q))\n",
        "elif choice=='2':\n",
        "  print(p,'-',q,'=',subtruct(p,q))\n",
        "elif choice=='3':\n",
        "  print(p,'*',q,'=',multiply(p,q))\n",
        "elif choice=='4':\n",
        "  print(p,'/',q,'=',division(p,q))\n",
        "else:\n",
        "  print('Invalid operation')\n",
        "\n",
        "\n"
      ],
      "metadata": {
        "colab": {
          "base_uri": "https://localhost:8080/"
        },
        "id": "W30KaRsFrfU9",
        "outputId": "4037ee24-0c28-478a-8cbb-25a30d96fe39"
      },
      "execution_count": 6,
      "outputs": [
        {
          "output_type": "stream",
          "name": "stdout",
          "text": [
            "Enter number1:10\n",
            "Enter number2:20\n",
            "1.add\n",
            "2.subtruct\n",
            "3.multiply\n",
            "4.division\n",
            "Enter your choice 1/2/3/4:3\n",
            "10.0 * 20.0 = 200.0\n"
          ]
        }
      ]
    }
  ]
}